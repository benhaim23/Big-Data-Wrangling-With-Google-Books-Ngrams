{
 "cells": [
  {
   "cell_type": "markdown",
   "id": "6aebedd0",
   "metadata": {},
   "source": [
    "# Big Data Wrangling With Google Books Ngrams"
   ]
  },
  {
   "cell_type": "markdown",
   "id": "b8a724e6",
   "metadata": {},
   "source": [
    "The Google Books Ngrams dataset provides a rich repository of word frequencies over time, sourced from books spanning multiple centuries. This notebook aims to extract, transform, and analyze the frequency of the term \"data\" over the years."
   ]
  },
  {
   "cell_type": "markdown",
   "id": "236e829a",
   "metadata": {},
   "source": [
    "# 4. Create a Pyspark Dataframe"
   ]
  },
  {
   "cell_type": "markdown",
   "id": "80db92b0",
   "metadata": {},
   "source": [
    "## 1. Data Loading\n",
    "\n",
    "Pull data from the (public) S3 bucket into HDFS\n",
    "\n",
    "Here we read data from the Hadoop Distributed File System (HDFS). We specifically target the English 1M 1-gram dataset."
   ]
  },
  {
   "cell_type": "code",
   "execution_count": 1,
   "id": "5afe5632",
   "metadata": {},
   "outputs": [
    {
     "name": "stdout",
     "output_type": "stream",
     "text": [
      "Starting Spark application\n"
     ]
    },
    {
     "data": {
      "text/html": [
       "<table>\n",
       "<tr><th>ID</th><th>YARN Application ID</th><th>Kind</th><th>State</th><th>Spark UI</th><th>Driver log</th><th>User</th><th>Current session?</th></tr><tr><td>1</td><td>application_1692716920984_0004</td><td>pyspark</td><td>idle</td><td><a target=\"_blank\" href=\"http://ip-172-31-28-187.us-east-2.compute.internal:20888/proxy/application_1692716920984_0004/\">Link</a></td><td><a target=\"_blank\" href=\"http://ip-172-31-24-125.us-east-2.compute.internal:8042/node/containerlogs/container_1692716920984_0004_01_000001/livy\">Link</a></td><td>None</td><td>✔</td></tr></table>"
      ],
      "text/plain": [
       "<IPython.core.display.HTML object>"
      ]
     },
     "metadata": {},
     "output_type": "display_data"
    },
    {
     "data": {
      "application/vnd.jupyter.widget-view+json": {
       "model_id": "",
       "version_major": 2,
       "version_minor": 0
      },
      "text/plain": [
       "FloatProgress(value=0.0, bar_style='info', description='Progress:', layout=Layout(height='25px', width='50%'),…"
      ]
     },
     "metadata": {},
     "output_type": "display_data"
    },
    {
     "name": "stdout",
     "output_type": "stream",
     "text": [
      "SparkSession available as 'spark'.\n"
     ]
    },
    {
     "data": {
      "application/vnd.jupyter.widget-view+json": {
       "model_id": "",
       "version_major": 2,
       "version_minor": 0
      },
      "text/plain": [
       "FloatProgress(value=0.0, bar_style='info', description='Progress:', layout=Layout(height='25px', width='50%'),…"
      ]
     },
     "metadata": {},
     "output_type": "display_data"
    }
   ],
   "source": [
    "# Read data from HDFS\n",
    "df = spark.read.csv(\"/user/hadoop/eng_1M_1gram/\", header=True, inferSchema=True)"
   ]
  },
  {
   "cell_type": "markdown",
   "id": "af74fcfc",
   "metadata": {},
   "source": [
    "## 2. Data Exploration\n",
    "\n",
    "Describe the dataset\n",
    "\n",
    "We initially view the schema and some rows of the dataset to get an understanding of its structure."
   ]
  },
  {
   "cell_type": "code",
   "execution_count": 2,
   "id": "29051a3a",
   "metadata": {},
   "outputs": [
    {
     "data": {
      "application/vnd.jupyter.widget-view+json": {
       "model_id": "",
       "version_major": 2,
       "version_minor": 0
      },
      "text/plain": [
       "FloatProgress(value=0.0, bar_style='info', description='Progress:', layout=Layout(height='25px', width='50%'),…"
      ]
     },
     "metadata": {},
     "output_type": "display_data"
    },
    {
     "name": "stdout",
     "output_type": "stream",
     "text": [
      "root\n",
      " |-- token: string (nullable = true)\n",
      " |-- year: integer (nullable = true)\n",
      " |-- frequency: integer (nullable = true)\n",
      " |-- pages: integer (nullable = true)\n",
      " |-- books: integer (nullable = true)\n",
      "\n",
      "+---------+----+---------+-----+-----+\n",
      "|    token|year|frequency|pages|books|\n",
      "+---------+----+---------+-----+-----+\n",
      "|inGermany|1927|        2|    2|    2|\n",
      "|inGermany|1929|        1|    1|    1|\n",
      "|inGermany|1930|        1|    1|    1|\n",
      "|inGermany|1933|        1|    1|    1|\n",
      "|inGermany|1934|        1|    1|    1|\n",
      "|inGermany|1935|        1|    1|    1|\n",
      "|inGermany|1938|        5|    5|    5|\n",
      "|inGermany|1939|        1|    1|    1|\n",
      "|inGermany|1940|        1|    1|    1|\n",
      "|inGermany|1942|        2|    2|    2|\n",
      "|inGermany|1944|        2|    2|    2|\n",
      "|inGermany|1946|        2|    2|    2|\n",
      "|inGermany|1947|        3|    3|    2|\n",
      "|inGermany|1948|        1|    1|    1|\n",
      "|inGermany|1949|        1|    1|    1|\n",
      "|inGermany|1952|        1|    1|    1|\n",
      "|inGermany|1956|        1|    1|    1|\n",
      "|inGermany|1957|        2|    2|    2|\n",
      "|inGermany|1959|        1|    1|    1|\n",
      "|inGermany|1960|        3|    3|    3|\n",
      "+---------+----+---------+-----+-----+\n",
      "only showing top 20 rows\n",
      "\n",
      "+-------+---------+------------------+-----------------+------------------+-----------------+\n",
      "|summary|    token|              year|        frequency|             pages|            books|\n",
      "+-------+---------+------------------+-----------------+------------------+-----------------+\n",
      "|  count|261823225|         261822793|        261822793|         261822793|        261822793|\n",
      "|   mean|      NaN|1910.5024307452102|396.6344411924442|210.14619198948046| 33.4816582947383|\n",
      "| stddev|      NaN| 66.05224930213528|47883.07879567001| 7149.963110116652|233.7042538654384|\n",
      "|    min|        !|              1520|                1|                 1|                1|\n",
      "|    max|       ，|              2008|         43571378|           2035864|             6174|\n",
      "+-------+---------+------------------+-----------------+------------------+-----------------+"
     ]
    }
   ],
   "source": [
    "# Describe the dataset\n",
    "df.printSchema()\n",
    "df.show()\n",
    "df.describe().show()"
   ]
  },
  {
   "cell_type": "markdown",
   "id": "1d231602",
   "metadata": {},
   "source": [
    "**Actionable Insights:**\n",
    "\n",
    "**Schema:** The DataFrame has columns token, year, frequency, pages, and books with respective data types of string, integer, integer, integer, and integer.\n",
    "\n",
    "**Size:** The DataFrame has 261,823,225 records.\n",
    "\n",
    "**Shape:** The DataFrame's shape is 261,823,225 rows x 5 columns."
   ]
  },
  {
   "cell_type": "markdown",
   "id": "3655cabd",
   "metadata": {},
   "source": [
    "## 3. Data Filtering\n",
    "\n",
    "Filter for the token \"data\"\n",
    "\n",
    "To focus on the term \"data\", we filter the dataset to include only those rows where the token matches \"data\""
   ]
  },
  {
   "cell_type": "code",
   "execution_count": 3,
   "id": "f41917f3",
   "metadata": {},
   "outputs": [
    {
     "data": {
      "application/vnd.jupyter.widget-view+json": {
       "model_id": "",
       "version_major": 2,
       "version_minor": 0
      },
      "text/plain": [
       "FloatProgress(value=0.0, bar_style='info', description='Progress:', layout=Layout(height='25px', width='50%'),…"
      ]
     },
     "metadata": {},
     "output_type": "display_data"
    },
    {
     "name": "stdout",
     "output_type": "stream",
     "text": [
      "+-----+----+---------+-----+-----+\n",
      "|token|year|frequency|pages|books|\n",
      "+-----+----+---------+-----+-----+\n",
      "| data|1584|       16|   14|    1|\n",
      "| data|1614|        3|    2|    1|\n",
      "| data|1627|        1|    1|    1|\n",
      "| data|1631|       22|   18|    1|\n",
      "| data|1637|        1|    1|    1|\n",
      "| data|1638|        2|    2|    1|\n",
      "| data|1640|        1|    1|    1|\n",
      "| data|1642|        1|    1|    1|\n",
      "| data|1644|        4|    4|    1|\n",
      "| data|1647|        1|    1|    1|\n",
      "| data|1651|        1|    1|    1|\n",
      "| data|1674|        1|    1|    1|\n",
      "| data|1690|        1|    1|    1|\n",
      "| data|1693|        1|    1|    1|\n",
      "| data|1697|        1|    1|    1|\n",
      "| data|1699|        1|    1|    1|\n",
      "| data|1700|        1|    1|    1|\n",
      "| data|1701|       11|   11|    2|\n",
      "| data|1702|        1|    1|    1|\n",
      "| data|1703|        1|    1|    1|\n",
      "+-----+----+---------+-----+-----+\n",
      "only showing top 20 rows\n",
      "\n",
      "+-------+-----+------------------+-----------------+------------------+------------------+\n",
      "|summary|token|              year|        frequency|             pages|             books|\n",
      "+-------+-----+------------------+-----------------+------------------+------------------+\n",
      "|  count|  316|               316|              316|               316|               316|\n",
      "|   mean| null|1847.5696202531647|38555.99367088608|21711.041139240508| 1493.110759493671|\n",
      "| stddev| null| 96.87438222401165| 69212.3664179185| 34901.79774004759|1560.0408024002788|\n",
      "|    min| data|              1584|                1|                 1|                 1|\n",
      "|    max| data|              2008|           254561|            122472|              4372|\n",
      "+-------+-----+------------------+-----------------+------------------+------------------+"
     ]
    }
   ],
   "source": [
    "# Filter the data\n",
    "data_df = df.filter(df.token == \"data\")\n",
    "data_df.show()\n",
    "data_df.describe().show()"
   ]
  },
  {
   "cell_type": "markdown",
   "id": "b232c9c1",
   "metadata": {},
   "source": [
    "This dataset consists of 5 columns:\n",
    "\n",
    "- token: The word or string being 'data'.\n",
    "- year: The year of the record for the token 'data'.\n",
    "- frequency: Number of times the token 'data' appeared in that year.\n",
    "- pages: Number of pages the token 'data' appeared on.\n",
    "- books: Number of books the token 'data' appeared in.\n",
    "\n"
   ]
  },
  {
   "cell_type": "markdown",
   "id": "7187f84e",
   "metadata": {},
   "source": [
    "## 4. Data Writing\n",
    "\n",
    "Write the filtered data back to a directory in the HDFS from Spark"
   ]
  },
  {
   "cell_type": "code",
   "execution_count": 3,
   "id": "a6416d33",
   "metadata": {},
   "outputs": [
    {
     "data": {
      "application/vnd.jupyter.widget-view+json": {
       "model_id": "",
       "version_major": 2,
       "version_minor": 0
      },
      "text/plain": [
       "FloatProgress(value=0.0, bar_style='info', description='Progress:', layout=Layout(height='25px', width='50%'),…"
      ]
     },
     "metadata": {},
     "output_type": "display_data"
    }
   ],
   "source": [
    "# Write the filtered data back to HDFS\n",
    "data_df.write.csv(\"/user/hadoop/filtered_1gram\", header=True)\n"
   ]
  }
 ],
 "metadata": {
  "kernelspec": {
   "display_name": "PySpark",
   "language": "python",
   "name": "pysparkkernel"
  },
  "language_info": {
   "codemirror_mode": {
    "name": "python",
    "version": 3
   },
   "file_extension": ".py",
   "mimetype": "text/x-python",
   "name": "pyspark",
   "pygments_lexer": "python3"
  }
 },
 "nbformat": 4,
 "nbformat_minor": 5
}
